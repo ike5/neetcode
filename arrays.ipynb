{
 "cells": [
  {
   "metadata": {
    "ExecuteTime": {
     "end_time": "2024-06-12T05:34:23.313804Z",
     "start_time": "2024-06-12T05:34:23.310790Z"
    }
   },
   "cell_type": "code",
   "source": [
    "def traverse_array(arr: list):\n",
    "    for i in range(len(arr)):\n",
    "        print(arr[i])"
   ],
   "id": "initial_id",
   "outputs": [],
   "execution_count": 14
  },
  {
   "metadata": {
    "ExecuteTime": {
     "end_time": "2024-06-12T05:34:23.716375Z",
     "start_time": "2024-06-12T05:34:23.713484Z"
    }
   },
   "cell_type": "code",
   "source": [
    "def remove_end(arr: list, length: int):\n",
    "    if length > 0:\n",
    "        arr[length - 1] = 0\n",
    "        print(arr)"
   ],
   "id": "1b711e0e550f1e03",
   "outputs": [],
   "execution_count": 15
  },
  {
   "metadata": {
    "ExecuteTime": {
     "end_time": "2024-06-12T05:34:24.145730Z",
     "start_time": "2024-06-12T05:34:24.143206Z"
    }
   },
   "cell_type": "code",
   "source": [
    "def remove_middle(arr: list, i, length):\n",
    "    assert length > 0\n",
    "    for index in range(i + 1, length):\n",
    "        arr[index - 1] = arr[index]\n",
    "    print(arr)"
   ],
   "id": "8602e452080b9178",
   "outputs": [],
   "execution_count": 16
  },
  {
   "metadata": {
    "ExecuteTime": {
     "end_time": "2024-06-12T05:34:24.550777Z",
     "start_time": "2024-06-12T05:34:24.547714Z"
    }
   },
   "cell_type": "code",
   "source": [
    "def main():\n",
    "    remove_middle([1, 2, 3, 4, 5, 6, 7], 3, 7)\n",
    "\n",
    "\n",
    "if __name__ == '__main__':\n",
    "    main()"
   ],
   "id": "9aab27c7e55e3f21",
   "outputs": [
    {
     "name": "stdout",
     "output_type": "stream",
     "text": [
      "[1, 2, 3, 5, 6, 7, 7]\n"
     ]
    }
   ],
   "execution_count": 17
  }
 ],
 "metadata": {
  "kernelspec": {
   "display_name": "Python 3",
   "language": "python",
   "name": "python3"
  },
  "language_info": {
   "codemirror_mode": {
    "name": "ipython",
    "version": 2
   },
   "file_extension": ".py",
   "mimetype": "text/x-python",
   "name": "python",
   "nbconvert_exporter": "python",
   "pygments_lexer": "ipython2",
   "version": "2.7.6"
  }
 },
 "nbformat": 4,
 "nbformat_minor": 5
}
